{
  "nbformat": 4,
  "nbformat_minor": 0,
  "metadata": {
    "colab": {
      "name": "Assignment 4-Fourth.ipynb",
      "version": "0.3.2",
      "provenance": [],
      "collapsed_sections": [],
      "include_colab_link": true
    },
    "kernelspec": {
      "name": "python3",
      "display_name": "Python 3"
    },
    "accelerator": "GPU"
  },
  "cells": [
    {
      "cell_type": "markdown",
      "metadata": {
        "id": "view-in-github",
        "colab_type": "text"
      },
      "source": [
        "<a href=\"https://colab.research.google.com/github/shravankumargulvadi/Assignment-4/blob/master/Assignment_4_Fourth.ipynb\" target=\"_parent\"><img src=\"https://colab.research.google.com/assets/colab-badge.svg\" alt=\"Open In Colab\"/></a>"
      ]
    },
    {
      "cell_type": "markdown",
      "metadata": {
        "id": "EAtVfxwIbNJ2",
        "colab_type": "text"
      },
      "source": [
        "# Fourth Design Iteration\n",
        "* Omission of the 1x1 Conv layer Just before the final 4x4 Conv layer. Reason: addition of this layer brought down the performance of the network when tested in isolation. Probably because its addition reduced the number of learnable parameters.\n",
        "* Increasing the no of epochs to 50.\n",
        "* ## Result: Max Accuracy=99.47% attained with 14,488 parameters\n"
      ]
    },
    {
      "cell_type": "markdown",
      "metadata": {
        "id": "aNyZv-Ec52ot",
        "colab_type": "text"
      },
      "source": [
        "# **Import Libraries and modules**"
      ]
    },
    {
      "cell_type": "code",
      "metadata": {
        "id": "3m3w1Cw49Zkt",
        "colab_type": "code",
        "colab": {}
      },
      "source": [
        "# https://keras.io/\n",
        "!pip install -q keras\n",
        "import keras"
      ],
      "execution_count": 0,
      "outputs": []
    },
    {
      "cell_type": "markdown",
      "metadata": {
        "id": "bvcPbJ7vAGad",
        "colab_type": "text"
      },
      "source": [
        "## Importing all the required Modules from keras\n",
        "\n",
        "##Dropout-randomly drops specified proportion of kernels/neurons-helps in overcoming overfitting.\n",
        "All other modules same as in previous assignment"
      ]
    },
    {
      "cell_type": "code",
      "metadata": {
        "id": "Eso6UHE080D4",
        "colab_type": "code",
        "colab": {}
      },
      "source": [
        "import numpy as np\n",
        "\n",
        "from keras.models import Sequential\n",
        "from keras.layers import Dense, Dropout, Activation, Flatten, Add\n",
        "from keras.layers import Convolution2D, MaxPooling2D, BatchNormalization\n",
        "from keras.callbacks import ModelCheckpoint\n",
        "from keras.utils import np_utils\n",
        "\n",
        "from keras.datasets import mnist"
      ],
      "execution_count": 0,
      "outputs": []
    },
    {
      "cell_type": "markdown",
      "metadata": {
        "id": "ZIg-lGeXNQb6",
        "colab_type": "text"
      },
      "source": [
        "## Seeding for Repeatability"
      ]
    },
    {
      "cell_type": "code",
      "metadata": {
        "id": "KbqMXToALgqe",
        "colab_type": "code",
        "colab": {}
      },
      "source": [
        "seed = 7\n",
        "np.random.seed(seed)"
      ],
      "execution_count": 0,
      "outputs": []
    },
    {
      "cell_type": "markdown",
      "metadata": {
        "id": "zByEi95J86RD",
        "colab_type": "text"
      },
      "source": [
        "### Load pre-shuffled MNIST data into train and test sets"
      ]
    },
    {
      "cell_type": "markdown",
      "metadata": {
        "id": "14JWeTigBFec",
        "colab_type": "text"
      },
      "source": [
        "## Splitting the data for training and testing"
      ]
    },
    {
      "cell_type": "code",
      "metadata": {
        "id": "7eRM0QWN83PV",
        "colab_type": "code",
        "colab": {}
      },
      "source": [
        "(X_train, y_train), (X_test, y_test) = mnist.load_data()"
      ],
      "execution_count": 0,
      "outputs": []
    },
    {
      "cell_type": "markdown",
      "metadata": {
        "id": "48u1yVl3BMz9",
        "colab_type": "text"
      },
      "source": [
        "## Printing Size of the image in MNIST and a sample image"
      ]
    },
    {
      "cell_type": "code",
      "metadata": {
        "id": "4a4Be72j8-ZC",
        "colab_type": "code",
        "outputId": "53c06dbf-3334-4f18-fcef-ee92e8e192e8",
        "colab": {
          "base_uri": "https://localhost:8080/",
          "height": 303
        }
      },
      "source": [
        "print (X_train.shape)\n",
        "from matplotlib import pyplot as plt\n",
        "%matplotlib inline\n",
        "plt.imshow(X_train[0])"
      ],
      "execution_count": 77,
      "outputs": [
        {
          "output_type": "stream",
          "text": [
            "(60000, 28, 28)\n"
          ],
          "name": "stdout"
        },
        {
          "output_type": "execute_result",
          "data": {
            "text/plain": [
              "<matplotlib.image.AxesImage at 0x7f2255cae978>"
            ]
          },
          "metadata": {
            "tags": []
          },
          "execution_count": 77
        },
        {
          "output_type": "display_data",
          "data": {
            "image/png": "[encoded data removed]",
            "text/plain": [
              "<Figure size 432x288 with 1 Axes>"
            ]
          },
          "metadata": {
            "tags": []
          }
        }
      ]
    },
    {
      "cell_type": "markdown",
      "metadata": {
        "id": "PkVpL0LEBZJA",
        "colab_type": "text"
      },
      "source": [
        "## Reshaping the MNIST images to 28x28x1"
      ]
    },
    {
      "cell_type": "code",
      "metadata": {
        "id": "dkmprriw9AnZ",
        "colab_type": "code",
        "colab": {}
      },
      "source": [
        "X_train = X_train.reshape(X_train.shape[0], 28, 28,1)\n",
        "X_test = X_test.reshape(X_test.shape[0], 28, 28,1)"
      ],
      "execution_count": 0,
      "outputs": []
    },
    {
      "cell_type": "markdown",
      "metadata": {
        "id": "ACH7AexwBacz",
        "colab_type": "text"
      },
      "source": [
        "## Setting the 'type' to float32 (Decimel) and Normalizing the pixels by deviding it by 255"
      ]
    },
    {
      "cell_type": "code",
      "metadata": {
        "id": "X2m4YS4E9CRh",
        "colab_type": "code",
        "colab": {}
      },
      "source": [
        "X_train = X_train.astype('float32')\n",
        "X_test = X_test.astype('float32')\n",
        "X_train /= 255\n",
        "X_test /= 255"
      ],
      "execution_count": 0,
      "outputs": []
    },
    {
      "cell_type": "code",
      "metadata": {
        "id": "0Mn0vAYD9DvB",
        "colab_type": "code",
        "outputId": "9e17ea90-3ba6-4ffb-caa8-bfd30d184406",
        "colab": {
          "base_uri": "https://localhost:8080/",
          "height": 34
        }
      },
      "source": [
        "y_train[:10]"
      ],
      "execution_count": 80,
      "outputs": [
        {
          "output_type": "execute_result",
          "data": {
            "text/plain": [
              "array([5, 0, 4, 1, 9, 2, 1, 3, 1, 4], dtype=uint8)"
            ]
          },
          "metadata": {
            "tags": []
          },
          "execution_count": 80
        }
      ]
    },
    {
      "cell_type": "markdown",
      "metadata": {
        "id": "JGD6EkQ1BoM-",
        "colab_type": "text"
      },
      "source": [
        "## Converting the target values to 1 hot encoding"
      ]
    },
    {
      "cell_type": "code",
      "metadata": {
        "id": "ZG8JiXR39FHC",
        "colab_type": "code",
        "colab": {}
      },
      "source": [
        "# Convert 1-dimensional class arrays to 10-dimensional class matrices\n",
        "Y_train = np_utils.to_categorical(y_train, 10)\n",
        "Y_test = np_utils.to_categorical(y_test, 10)"
      ],
      "execution_count": 0,
      "outputs": []
    },
    {
      "cell_type": "code",
      "metadata": {
        "id": "fYlFRvKS9HMB",
        "colab_type": "code",
        "outputId": "7cac26c5-53cd-44ea-9691-ea25ebb0cc00",
        "colab": {
          "base_uri": "https://localhost:8080/",
          "height": 187
        }
      },
      "source": [
        "Y_train[:10]\n"
      ],
      "execution_count": 29,
      "outputs": [
        {
          "output_type": "execute_result",
          "data": {
            "text/plain": [
              "array([[0., 0., 0., 0., 0., 1., 0., 0., 0., 0.],\n",
              "       [1., 0., 0., 0., 0., 0., 0., 0., 0., 0.],\n",
              "       [0., 0., 0., 0., 1., 0., 0., 0., 0., 0.],\n",
              "       [0., 1., 0., 0., 0., 0., 0., 0., 0., 0.],\n",
              "       [0., 0., 0., 0., 0., 0., 0., 0., 0., 1.],\n",
              "       [0., 0., 1., 0., 0., 0., 0., 0., 0., 0.],\n",
              "       [0., 1., 0., 0., 0., 0., 0., 0., 0., 0.],\n",
              "       [0., 0., 0., 1., 0., 0., 0., 0., 0., 0.],\n",
              "       [0., 1., 0., 0., 0., 0., 0., 0., 0., 0.],\n",
              "       [0., 0., 0., 0., 1., 0., 0., 0., 0., 0.]], dtype=float32)"
            ]
          },
          "metadata": {
            "tags": []
          },
          "execution_count": 29
        }
      ]
    },
    {
      "cell_type": "markdown",
      "metadata": {
        "id": "-GMenzKyBxrp",
        "colab_type": "text"
      },
      "source": [
        "## Building the main model"
      ]
    },
    {
      "cell_type": "code",
      "metadata": {
        "id": "osKqT73Q9JJB",
        "colab_type": "code",
        "outputId": "067f3676-07ed-40b2-d7e6-42a34349611c",
        "colab": {
          "base_uri": "https://localhost:8080/",
          "height": 241
        }
      },
      "source": [
        "from keras.layers import Activation\n",
        "model = Sequential()\n",
        " \n",
        "model.add(Convolution2D(10, 3, 3, activation='relu', input_shape=(28,28,1))) #26\n",
        "model.add(BatchNormalization())\n",
        "model.add(Dropout(0.05))\n",
        "\n",
        "model.add(Convolution2D(16, 3, 3, activation='relu')) #24\n",
        "model.add(BatchNormalization())\n",
        "model.add(Dropout(0.05))\n",
        "\n",
        "model.add(Convolution2D(10, 1, 1, activation='relu')) #24\n",
        "model.add(MaxPooling2D(pool_size=(2, 2)))#12\n",
        "\n",
        "model.add(Convolution2D(14, 3, 3, activation='relu'))#10\n",
        "model.add(BatchNormalization())\n",
        "model.add(Dropout(0.1))\n",
        "\n",
        "\n",
        "model.add(Convolution2D(16, 3, 3, activation='relu'))#8\n",
        "model.add(BatchNormalization())\n",
        "model.add(Dropout(0.1))\n",
        "\n",
        "\n",
        "model.add(Convolution2D(18, 3, 3, activation='relu'))#6\n",
        "model.add(BatchNormalization())\n",
        "model.add(Dropout(0.1))\n",
        "\n",
        "\n",
        "\n",
        "model.add(Convolution2D(20, 3, 3, activation='relu'))#4\n",
        "model.add(BatchNormalization())\n",
        "model.add(Dropout(0.05))\n",
        "\n",
        "\n",
        "\n",
        "model.add(Convolution2D(10, 4, 4))  #1\n",
        "\n",
        "\n",
        "model.add(Flatten())\n",
        "model.add(Activation('softmax'))\n",
        "\n"
      ],
      "execution_count": 180,
      "outputs": [
        {
          "output_type": "stream",
          "text": [
            "/usr/local/lib/python3.6/dist-packages/ipykernel_launcher.py:4: UserWarning: Update your `Conv2D` call to the Keras 2 API: `Conv2D(10, (3, 3), activation=\"relu\", input_shape=(28, 28, 1...)`\n",
            "  after removing the cwd from sys.path.\n",
            "/usr/local/lib/python3.6/dist-packages/ipykernel_launcher.py:8: UserWarning: Update your `Conv2D` call to the Keras 2 API: `Conv2D(16, (3, 3), activation=\"relu\")`\n",
            "  \n",
            "/usr/local/lib/python3.6/dist-packages/ipykernel_launcher.py:12: UserWarning: Update your `Conv2D` call to the Keras 2 API: `Conv2D(10, (1, 1), activation=\"relu\")`\n",
            "  if sys.path[0] == '':\n",
            "/usr/local/lib/python3.6/dist-packages/ipykernel_launcher.py:16: UserWarning: Update your `Conv2D` call to the Keras 2 API: `Conv2D(14, (3, 3), activation=\"relu\")`\n",
            "  app.launch_new_instance()\n",
            "/usr/local/lib/python3.6/dist-packages/ipykernel_launcher.py:21: UserWarning: Update your `Conv2D` call to the Keras 2 API: `Conv2D(16, (3, 3), activation=\"relu\")`\n",
            "/usr/local/lib/python3.6/dist-packages/ipykernel_launcher.py:26: UserWarning: Update your `Conv2D` call to the Keras 2 API: `Conv2D(18, (3, 3), activation=\"relu\")`\n",
            "/usr/local/lib/python3.6/dist-packages/ipykernel_launcher.py:32: UserWarning: Update your `Conv2D` call to the Keras 2 API: `Conv2D(20, (3, 3), activation=\"relu\")`\n",
            "/usr/local/lib/python3.6/dist-packages/ipykernel_launcher.py:38: UserWarning: Update your `Conv2D` call to the Keras 2 API: `Conv2D(10, (4, 4))`\n"
          ],
          "name": "stderr"
        }
      ]
    },
    {
      "cell_type": "code",
      "metadata": {
        "id": "TzdAYg1k9K7Z",
        "colab_type": "code",
        "outputId": "b4b880fc-1cf5-48c4-b58e-1be2d515c758",
        "colab": {
          "base_uri": "https://localhost:8080/",
          "height": 918
        }
      },
      "source": [
        "model.summary()"
      ],
      "execution_count": 181,
      "outputs": [
        {
          "output_type": "stream",
          "text": [
            "_________________________________________________________________\n",
            "Layer (type)                 Output Shape              Param #   \n",
            "=================================================================\n",
            "conv2d_358 (Conv2D)          (None, 26, 26, 10)        100       \n",
            "_________________________________________________________________\n",
            "batch_normalization_238 (Bat (None, 26, 26, 10)        40        \n",
            "_________________________________________________________________\n",
            "dropout_238 (Dropout)        (None, 26, 26, 10)        0         \n",
            "_________________________________________________________________\n",
            "conv2d_359 (Conv2D)          (None, 24, 24, 16)        1456      \n",
            "_________________________________________________________________\n",
            "batch_normalization_239 (Bat (None, 24, 24, 16)        64        \n",
            "_________________________________________________________________\n",
            "dropout_239 (Dropout)        (None, 24, 24, 16)        0         \n",
            "_________________________________________________________________\n",
            "conv2d_360 (Conv2D)          (None, 24, 24, 10)        170       \n",
            "_________________________________________________________________\n",
            "max_pooling2d_45 (MaxPooling (None, 12, 12, 10)        0         \n",
            "_________________________________________________________________\n",
            "conv2d_361 (Conv2D)          (None, 10, 10, 14)        1274      \n",
            "_________________________________________________________________\n",
            "batch_normalization_240 (Bat (None, 10, 10, 14)        56        \n",
            "_________________________________________________________________\n",
            "dropout_240 (Dropout)        (None, 10, 10, 14)        0         \n",
            "_________________________________________________________________\n",
            "conv2d_362 (Conv2D)          (None, 8, 8, 16)          2032      \n",
            "_________________________________________________________________\n",
            "batch_normalization_241 (Bat (None, 8, 8, 16)          64        \n",
            "_________________________________________________________________\n",
            "dropout_241 (Dropout)        (None, 8, 8, 16)          0         \n",
            "_________________________________________________________________\n",
            "conv2d_363 (Conv2D)          (None, 6, 6, 18)          2610      \n",
            "_________________________________________________________________\n",
            "batch_normalization_242 (Bat (None, 6, 6, 18)          72        \n",
            "_________________________________________________________________\n",
            "dropout_242 (Dropout)        (None, 6, 6, 18)          0         \n",
            "_________________________________________________________________\n",
            "conv2d_364 (Conv2D)          (None, 4, 4, 20)          3260      \n",
            "_________________________________________________________________\n",
            "batch_normalization_243 (Bat (None, 4, 4, 20)          80        \n",
            "_________________________________________________________________\n",
            "dropout_243 (Dropout)        (None, 4, 4, 20)          0         \n",
            "_________________________________________________________________\n",
            "conv2d_365 (Conv2D)          (None, 1, 1, 10)          3210      \n",
            "_________________________________________________________________\n",
            "flatten_43 (Flatten)         (None, 10)                0         \n",
            "_________________________________________________________________\n",
            "activation_43 (Activation)   (None, 10)                0         \n",
            "=================================================================\n",
            "Total params: 14,488\n",
            "Trainable params: 14,300\n",
            "Non-trainable params: 188\n",
            "_________________________________________________________________\n"
          ],
          "name": "stdout"
        }
      ]
    },
    {
      "cell_type": "markdown",
      "metadata": {
        "id": "egu3Z7N1B-Gk",
        "colab_type": "text"
      },
      "source": [
        "## Configuring the model for training\n",
        "1.Loss- Is a measure of error and is the function which is to be minimized by the optimizer\n",
        "\n",
        "2.Optimizer- optimizes the result by updating the weights in accordance with the loss\n",
        "\n",
        "3. Metrics-A metric is a function that is used to judge the performance of the model"
      ]
    },
    {
      "cell_type": "code",
      "metadata": {
        "id": "Zp6SuGrL9M3h",
        "colab_type": "code",
        "colab": {}
      },
      "source": [
        "from keras.optimizers import Adam\n",
        "from keras.callbacks import LearningRateScheduler\n",
        "def scheduler(epoch, lr):\n",
        "  return round(0.003 * 1/(1 + 0.319 * epoch), 10)\n",
        "\n",
        "\n",
        "model.compile(loss='categorical_crossentropy', optimizer=Adam(lr=0.003), metrics=['accuracy'])\n"
      ],
      "execution_count": 0,
      "outputs": []
    },
    {
      "cell_type": "markdown",
      "metadata": {
        "id": "QonWkHDBNDyY",
        "colab_type": "text"
      },
      "source": [
        "## Creating Checkpoints to save the best weights"
      ]
    },
    {
      "cell_type": "code",
      "metadata": {
        "id": "r4PhhHH3EC2_",
        "colab_type": "code",
        "colab": {}
      },
      "source": [
        "filepath=\"weights.best.hdf5\"\n",
        "checkpoint = ModelCheckpoint(filepath, monitor='val_acc', verbose=1, save_best_only=True, mode='max')\n",
        "callbacks_list = [checkpoint]"
      ],
      "execution_count": 0,
      "outputs": []
    },
    {
      "cell_type": "markdown",
      "metadata": {
        "id": "CRcfivezCNBp",
        "colab_type": "text"
      },
      "source": [
        "## Model training begins on training data witha each batch containing 32 images and no of epochs is 50"
      ]
    },
    {
      "cell_type": "code",
      "metadata": {
        "id": "4xWoKhPY9Of5",
        "colab_type": "code",
        "outputId": "84a89796-f368-4cc7-c0d9-ff68bc9906ad",
        "colab": {
          "base_uri": "https://localhost:8080/",
          "height": 3485
        }
      },
      "source": [
        "model.fit(X_train, Y_train, batch_size=32, nb_epoch=50, verbose=1, validation_data=(X_test, Y_test), callbacks=callbacks_list)"
      ],
      "execution_count": 184,
      "outputs": [
        {
          "output_type": "stream",
          "text": [
            "/usr/local/lib/python3.6/dist-packages/ipykernel_launcher.py:1: UserWarning: The `nb_epoch` argument in `fit` has been renamed `epochs`.\n",
            "  \"\"\"Entry point for launching an IPython kernel.\n"
          ],
          "name": "stderr"
        },
        {
          "output_type": "stream",
          "text": [
            "Train on 60000 samples, validate on 10000 samples\n",
            "Epoch 1/50\n",
            "60000/60000 [==============================] - 46s 763us/step - loss: 0.1467 - acc: 0.9528 - val_loss: 0.0591 - val_acc: 0.9802\n",
            "\n",
            "Epoch 00001: val_acc improved from -inf to 0.98020, saving model to weights.best.hdf5\n",
            "Epoch 2/50\n",
            "60000/60000 [==============================] - 30s 505us/step - loss: 0.0671 - acc: 0.9791 - val_loss: 0.0447 - val_acc: 0.9857\n",
            "\n",
            "Epoch 00002: val_acc improved from 0.98020 to 0.98570, saving model to weights.best.hdf5\n",
            "Epoch 3/50\n",
            "60000/60000 [==============================] - 29s 485us/step - loss: 0.0538 - acc: 0.9830 - val_loss: 0.0338 - val_acc: 0.9904\n",
            "\n",
            "Epoch 00003: val_acc improved from 0.98570 to 0.99040, saving model to weights.best.hdf5\n",
            "Epoch 4/50\n",
            "60000/60000 [==============================] - 30s 493us/step - loss: 0.0473 - acc: 0.9851 - val_loss: 0.0355 - val_acc: 0.9895\n",
            "\n",
            "Epoch 00004: val_acc did not improve from 0.99040\n",
            "Epoch 5/50\n",
            "60000/60000 [==============================] - 30s 497us/step - loss: 0.0423 - acc: 0.9868 - val_loss: 0.0282 - val_acc: 0.9906\n",
            "\n",
            "Epoch 00005: val_acc improved from 0.99040 to 0.99060, saving model to weights.best.hdf5\n",
            "Epoch 6/50\n",
            "60000/60000 [==============================] - 29s 481us/step - loss: 0.0393 - acc: 0.9875 - val_loss: 0.0262 - val_acc: 0.9921\n",
            "\n",
            "Epoch 00006: val_acc improved from 0.99060 to 0.99210, saving model to weights.best.hdf5\n",
            "Epoch 7/50\n",
            "60000/60000 [==============================] - 31s 509us/step - loss: 0.0355 - acc: 0.9889 - val_loss: 0.0251 - val_acc: 0.9919\n",
            "\n",
            "Epoch 00007: val_acc did not improve from 0.99210\n",
            "Epoch 8/50\n",
            "60000/60000 [==============================] - 30s 493us/step - loss: 0.0324 - acc: 0.9895 - val_loss: 0.0249 - val_acc: 0.9918\n",
            "\n",
            "Epoch 00008: val_acc did not improve from 0.99210\n",
            "Epoch 9/50\n",
            "60000/60000 [==============================] - 29s 481us/step - loss: 0.0315 - acc: 0.9896 - val_loss: 0.0281 - val_acc: 0.9912\n",
            "\n",
            "Epoch 00009: val_acc did not improve from 0.99210\n",
            "Epoch 10/50\n",
            "60000/60000 [==============================] - 30s 501us/step - loss: 0.0286 - acc: 0.9903 - val_loss: 0.0302 - val_acc: 0.9913\n",
            "\n",
            "Epoch 00010: val_acc did not improve from 0.99210\n",
            "Epoch 11/50\n",
            "60000/60000 [==============================] - 29s 487us/step - loss: 0.0283 - acc: 0.9912 - val_loss: 0.0262 - val_acc: 0.9918\n",
            "\n",
            "Epoch 00011: val_acc did not improve from 0.99210\n",
            "Epoch 12/50\n",
            "60000/60000 [==============================] - 30s 493us/step - loss: 0.0269 - acc: 0.9914 - val_loss: 0.0216 - val_acc: 0.9928\n",
            "\n",
            "Epoch 00012: val_acc improved from 0.99210 to 0.99280, saving model to weights.best.hdf5\n",
            "Epoch 13/50\n",
            "60000/60000 [==============================] - 30s 500us/step - loss: 0.0250 - acc: 0.9918 - val_loss: 0.0218 - val_acc: 0.9937\n",
            "\n",
            "Epoch 00013: val_acc improved from 0.99280 to 0.99370, saving model to weights.best.hdf5\n",
            "Epoch 14/50\n",
            "60000/60000 [==============================] - 30s 492us/step - loss: 0.0237 - acc: 0.9922 - val_loss: 0.0268 - val_acc: 0.9920\n",
            "\n",
            "Epoch 00014: val_acc did not improve from 0.99370\n",
            "Epoch 15/50\n",
            "60000/60000 [==============================] - 31s 514us/step - loss: 0.0242 - acc: 0.9921 - val_loss: 0.0244 - val_acc: 0.9919\n",
            "\n",
            "Epoch 00015: val_acc did not improve from 0.99370\n",
            "Epoch 16/50\n",
            "60000/60000 [==============================] - 30s 497us/step - loss: 0.0232 - acc: 0.9923 - val_loss: 0.0255 - val_acc: 0.9928\n",
            "\n",
            "Epoch 00016: val_acc did not improve from 0.99370\n",
            "Epoch 17/50\n",
            "60000/60000 [==============================] - 30s 494us/step - loss: 0.0223 - acc: 0.9929 - val_loss: 0.0226 - val_acc: 0.9937\n",
            "\n",
            "Epoch 00017: val_acc did not improve from 0.99370\n",
            "Epoch 18/50\n",
            "60000/60000 [==============================] - 31s 518us/step - loss: 0.0226 - acc: 0.9925 - val_loss: 0.0207 - val_acc: 0.9939\n",
            "\n",
            "Epoch 00018: val_acc improved from 0.99370 to 0.99390, saving model to weights.best.hdf5\n",
            "Epoch 19/50\n",
            "60000/60000 [==============================] - 30s 498us/step - loss: 0.0218 - acc: 0.9935 - val_loss: 0.0223 - val_acc: 0.9935\n",
            "\n",
            "Epoch 00019: val_acc did not improve from 0.99390\n",
            "Epoch 20/50\n",
            "60000/60000 [==============================] - 30s 498us/step - loss: 0.0191 - acc: 0.9938 - val_loss: 0.0215 - val_acc: 0.9928\n",
            "\n",
            "Epoch 00020: val_acc did not improve from 0.99390\n",
            "Epoch 21/50\n",
            "60000/60000 [==============================] - 31s 518us/step - loss: 0.0203 - acc: 0.9933 - val_loss: 0.0215 - val_acc: 0.9931\n",
            "\n",
            "Epoch 00021: val_acc did not improve from 0.99390\n",
            "Epoch 22/50\n",
            "60000/60000 [==============================] - 30s 501us/step - loss: 0.0190 - acc: 0.9939 - val_loss: 0.0245 - val_acc: 0.9930\n",
            "\n",
            "Epoch 00022: val_acc did not improve from 0.99390\n",
            "Epoch 23/50\n",
            "60000/60000 [==============================] - 31s 516us/step - loss: 0.0189 - acc: 0.9938 - val_loss: 0.0237 - val_acc: 0.9933\n",
            "\n",
            "Epoch 00023: val_acc did not improve from 0.99390\n",
            "Epoch 24/50\n",
            "60000/60000 [==============================] - 30s 501us/step - loss: 0.0197 - acc: 0.9936 - val_loss: 0.0272 - val_acc: 0.9929\n",
            "\n",
            "Epoch 00024: val_acc did not improve from 0.99390\n",
            "Epoch 25/50\n",
            "60000/60000 [==============================] - 30s 505us/step - loss: 0.0181 - acc: 0.9942 - val_loss: 0.0292 - val_acc: 0.9927\n",
            "\n",
            "Epoch 00025: val_acc did not improve from 0.99390\n",
            "Epoch 26/50\n",
            "60000/60000 [==============================] - 31s 517us/step - loss: 0.0176 - acc: 0.9943 - val_loss: 0.0236 - val_acc: 0.9934\n",
            "\n",
            "Epoch 00026: val_acc did not improve from 0.99390\n",
            "Epoch 27/50\n",
            "60000/60000 [==============================] - 30s 502us/step - loss: 0.0178 - acc: 0.9945 - val_loss: 0.0241 - val_acc: 0.9922\n",
            "\n",
            "Epoch 00027: val_acc did not improve from 0.99390\n",
            "Epoch 28/50\n",
            "60000/60000 [==============================] - 32s 530us/step - loss: 0.0181 - acc: 0.9941 - val_loss: 0.0228 - val_acc: 0.9931\n",
            "\n",
            "Epoch 00028: val_acc did not improve from 0.99390\n",
            "Epoch 29/50\n",
            "60000/60000 [==============================] - 31s 512us/step - loss: 0.0172 - acc: 0.9945 - val_loss: 0.0230 - val_acc: 0.9939\n",
            "\n",
            "Epoch 00029: val_acc did not improve from 0.99390\n",
            "Epoch 30/50\n",
            "60000/60000 [==============================] - 30s 501us/step - loss: 0.0165 - acc: 0.9946 - val_loss: 0.0241 - val_acc: 0.9940\n",
            "\n",
            "Epoch 00030: val_acc improved from 0.99390 to 0.99400, saving model to weights.best.hdf5\n",
            "Epoch 31/50\n",
            "60000/60000 [==============================] - 31s 515us/step - loss: 0.0167 - acc: 0.9942 - val_loss: 0.0261 - val_acc: 0.9935\n",
            "\n",
            "Epoch 00031: val_acc did not improve from 0.99400\n",
            "Epoch 32/50\n",
            "60000/60000 [==============================] - 30s 502us/step - loss: 0.0160 - acc: 0.9947 - val_loss: 0.0288 - val_acc: 0.9931\n",
            "\n",
            "Epoch 00032: val_acc did not improve from 0.99400\n",
            "Epoch 33/50\n",
            "60000/60000 [==============================] - 31s 512us/step - loss: 0.0157 - acc: 0.9948 - val_loss: 0.0256 - val_acc: 0.9932\n",
            "\n",
            "Epoch 00033: val_acc did not improve from 0.99400\n",
            "Epoch 34/50\n",
            "60000/60000 [==============================] - 31s 517us/step - loss: 0.0159 - acc: 0.9944 - val_loss: 0.0265 - val_acc: 0.9932\n",
            "\n",
            "Epoch 00034: val_acc did not improve from 0.99400\n",
            "Epoch 35/50\n",
            "60000/60000 [==============================] - 31s 515us/step - loss: 0.0157 - acc: 0.9948 - val_loss: 0.0257 - val_acc: 0.9935\n",
            "\n",
            "Epoch 00035: val_acc did not improve from 0.99400\n",
            "Epoch 36/50\n",
            "60000/60000 [==============================] - 31s 511us/step - loss: 0.0146 - acc: 0.9953 - val_loss: 0.0236 - val_acc: 0.9939\n",
            "\n",
            "Epoch 00036: val_acc did not improve from 0.99400\n",
            "Epoch 37/50\n",
            "60000/60000 [==============================] - 30s 500us/step - loss: 0.0153 - acc: 0.9948 - val_loss: 0.0215 - val_acc: 0.9941\n",
            "\n",
            "Epoch 00037: val_acc improved from 0.99400 to 0.99410, saving model to weights.best.hdf5\n",
            "Epoch 38/50\n",
            "60000/60000 [==============================] - 31s 517us/step - loss: 0.0156 - acc: 0.9947 - val_loss: 0.0263 - val_acc: 0.9931\n",
            "\n",
            "Epoch 00038: val_acc did not improve from 0.99410\n",
            "Epoch 39/50\n",
            "60000/60000 [==============================] - 32s 527us/step - loss: 0.0150 - acc: 0.9949 - val_loss: 0.0246 - val_acc: 0.9947\n",
            "\n",
            "Epoch 00039: val_acc improved from 0.99410 to 0.99470, saving model to weights.best.hdf5\n",
            "Epoch 40/50\n",
            "60000/60000 [==============================] - 31s 514us/step - loss: 0.0133 - acc: 0.9955 - val_loss: 0.0284 - val_acc: 0.9936\n",
            "\n",
            "Epoch 00040: val_acc did not improve from 0.99470\n",
            "Epoch 41/50\n",
            "60000/60000 [==============================] - 31s 509us/step - loss: 0.0139 - acc: 0.9953 - val_loss: 0.0254 - val_acc: 0.9935\n",
            "\n",
            "Epoch 00041: val_acc did not improve from 0.99470\n",
            "Epoch 42/50\n",
            "60000/60000 [==============================] - 30s 503us/step - loss: 0.0138 - acc: 0.9954 - val_loss: 0.0250 - val_acc: 0.9935\n",
            "\n",
            "Epoch 00042: val_acc did not improve from 0.99470\n",
            "Epoch 43/50\n",
            "60000/60000 [==============================] - 29s 488us/step - loss: 0.0150 - acc: 0.9949 - val_loss: 0.0242 - val_acc: 0.9936\n",
            "\n",
            "Epoch 00043: val_acc did not improve from 0.99470\n",
            "Epoch 44/50\n",
            "60000/60000 [==============================] - 30s 503us/step - loss: 0.0133 - acc: 0.9956 - val_loss: 0.0216 - val_acc: 0.9943\n",
            "\n",
            "Epoch 00044: val_acc did not improve from 0.99470\n",
            "Epoch 45/50\n",
            "60000/60000 [==============================] - 30s 500us/step - loss: 0.0140 - acc: 0.9955 - val_loss: 0.0263 - val_acc: 0.9934\n",
            "\n",
            "Epoch 00045: val_acc did not improve from 0.99470\n",
            "Epoch 46/50\n",
            "60000/60000 [==============================] - 30s 501us/step - loss: 0.0121 - acc: 0.9960 - val_loss: 0.0264 - val_acc: 0.9930\n",
            "\n",
            "Epoch 00046: val_acc did not improve from 0.99470\n",
            "Epoch 47/50\n",
            "60000/60000 [==============================] - 31s 514us/step - loss: 0.0138 - acc: 0.9959 - val_loss: 0.0290 - val_acc: 0.9932\n",
            "\n",
            "Epoch 00047: val_acc did not improve from 0.99470\n",
            "Epoch 48/50\n",
            "60000/60000 [==============================] - 30s 506us/step - loss: 0.0130 - acc: 0.9959 - val_loss: 0.0229 - val_acc: 0.9939\n",
            "\n",
            "Epoch 00048: val_acc did not improve from 0.99470\n",
            "Epoch 49/50\n",
            "60000/60000 [==============================] - 30s 501us/step - loss: 0.0134 - acc: 0.9958 - val_loss: 0.0256 - val_acc: 0.9937\n",
            "\n",
            "Epoch 00049: val_acc did not improve from 0.99470\n",
            "Epoch 50/50\n",
            "60000/60000 [==============================] - 30s 497us/step - loss: 0.0123 - acc: 0.9961 - val_loss: 0.0256 - val_acc: 0.9935\n",
            "\n",
            "Epoch 00050: val_acc did not improve from 0.99470\n"
          ],
          "name": "stdout"
        },
        {
          "output_type": "execute_result",
          "data": {
            "text/plain": [
              "<keras.callbacks.History at 0x7f223d7bf748>"
            ]
          },
          "metadata": {
            "tags": []
          },
          "execution_count": 184
        }
      ]
    },
    {
      "cell_type": "code",
      "metadata": {
        "id": "CT--y98_dr2T",
        "colab_type": "code",
        "colab": {}
      },
      "source": [
        "layer_dict = dict([(layer.name, layer) for layer in model.layers])"
      ],
      "execution_count": 0,
      "outputs": []
    },
    {
      "cell_type": "markdown",
      "metadata": {
        "id": "XIMLQiW-P4q3",
        "colab_type": "text"
      },
      "source": [
        "# Reloading the weights corresponding to the highest Validation accuracy and running it on the test data"
      ]
    },
    {
      "cell_type": "code",
      "metadata": {
        "id": "9tvptcn8dxvp",
        "colab_type": "code",
        "colab": {}
      },
      "source": [
        "import numpy as np\n",
        "\n",
        "from keras.models import Sequential\n",
        "from keras.layers import Dense, Dropout, Activation, Flatten, Add\n",
        "from keras.layers import Convolution2D, MaxPooling2D\n",
        "from keras.callbacks import ModelCheckpoint\n",
        "from keras.utils import np_utils\n",
        "\n",
        "from keras.datasets import mnist"
      ],
      "execution_count": 0,
      "outputs": []
    },
    {
      "cell_type": "code",
      "metadata": {
        "id": "0fQKgs9WKMHG",
        "colab_type": "code",
        "colab": {}
      },
      "source": [
        "seed = 7\n",
        "np.random.seed(seed)"
      ],
      "execution_count": 0,
      "outputs": []
    },
    {
      "cell_type": "code",
      "metadata": {
        "id": "pIXM4WT8ImnG",
        "colab_type": "code",
        "colab": {}
      },
      "source": [
        "(X_train, y_train), (X_test, y_test) = mnist.load_data()"
      ],
      "execution_count": 0,
      "outputs": []
    },
    {
      "cell_type": "code",
      "metadata": {
        "id": "OKq1v6zjJLWH",
        "colab_type": "code",
        "colab": {}
      },
      "source": [
        "X_train = X_train.reshape(X_train.shape[0], 28, 28,1)\n",
        "X_test = X_test.reshape(X_test.shape[0], 28, 28,1)"
      ],
      "execution_count": 0,
      "outputs": []
    },
    {
      "cell_type": "code",
      "metadata": {
        "id": "sTeQH00eJRJ8",
        "colab_type": "code",
        "colab": {}
      },
      "source": [
        "X_train = X_train.astype('float32')\n",
        "X_test = X_test.astype('float32')\n",
        "X_train /= 255\n",
        "X_test /= 255"
      ],
      "execution_count": 0,
      "outputs": []
    },
    {
      "cell_type": "code",
      "metadata": {
        "id": "s8ubEvFIJW0U",
        "colab_type": "code",
        "colab": {}
      },
      "source": [
        "# Convert 1-dimensional class arrays to 10-dimensional class matrices\n",
        "Y_train = np_utils.to_categorical(y_train, 10)\n",
        "Y_test = np_utils.to_categorical(y_test, 10)"
      ],
      "execution_count": 0,
      "outputs": []
    },
    {
      "cell_type": "code",
      "metadata": {
        "id": "f5oaw_tUJc4t",
        "colab_type": "code",
        "outputId": "84c01622-8574-4175-ef98-d8d624ac1365",
        "colab": {
          "base_uri": "https://localhost:8080/",
          "height": 241
        }
      },
      "source": [
        "from keras.layers import Activation\n",
        "model = Sequential()\n",
        " \n",
        "model.add(Convolution2D(10, 3, 3, activation='relu', input_shape=(28,28,1))) #26\n",
        "model.add(BatchNormalization())\n",
        "model.add(Dropout(0.05))\n",
        "\n",
        "model.add(Convolution2D(16, 3, 3, activation='relu')) #24\n",
        "model.add(BatchNormalization())\n",
        "model.add(Dropout(0.05))\n",
        "\n",
        "model.add(Convolution2D(10, 1, 1, activation='relu')) #24\n",
        "\n",
        "model.add(MaxPooling2D(pool_size=(2, 2)))#12\n",
        "\n",
        "model.add(Convolution2D(14, 3, 3, activation='relu'))#10\n",
        "model.add(BatchNormalization())\n",
        "model.add(Dropout(0.1))\n",
        "\n",
        "\n",
        "model.add(Convolution2D(16, 3, 3, activation='relu'))#8\n",
        "model.add(BatchNormalization())\n",
        "model.add(Dropout(0.1))\n",
        "\n",
        "\n",
        "model.add(Convolution2D(18, 3, 3, activation='relu'))#6\n",
        "model.add(BatchNormalization())\n",
        "model.add(Dropout(0.1))\n",
        "\n",
        "\n",
        "\n",
        "model.add(Convolution2D(20, 3, 3, activation='relu'))#4\n",
        "model.add(BatchNormalization())\n",
        "model.add(Dropout(0.05))\n",
        "\n",
        "\n",
        "\n",
        "model.add(Convolution2D(10, 4, 4))  #1\n",
        "\n",
        "\n",
        "model.add(Flatten())\n",
        "model.add(Activation('softmax'))\n"
      ],
      "execution_count": 191,
      "outputs": [
        {
          "output_type": "stream",
          "text": [
            "/usr/local/lib/python3.6/dist-packages/ipykernel_launcher.py:4: UserWarning: Update your `Conv2D` call to the Keras 2 API: `Conv2D(10, (3, 3), activation=\"relu\", input_shape=(28, 28, 1...)`\n",
            "  after removing the cwd from sys.path.\n",
            "/usr/local/lib/python3.6/dist-packages/ipykernel_launcher.py:8: UserWarning: Update your `Conv2D` call to the Keras 2 API: `Conv2D(16, (3, 3), activation=\"relu\")`\n",
            "  \n",
            "/usr/local/lib/python3.6/dist-packages/ipykernel_launcher.py:12: UserWarning: Update your `Conv2D` call to the Keras 2 API: `Conv2D(10, (1, 1), activation=\"relu\")`\n",
            "  if sys.path[0] == '':\n",
            "/usr/local/lib/python3.6/dist-packages/ipykernel_launcher.py:16: UserWarning: Update your `Conv2D` call to the Keras 2 API: `Conv2D(14, (3, 3), activation=\"relu\")`\n",
            "  app.launch_new_instance()\n",
            "/usr/local/lib/python3.6/dist-packages/ipykernel_launcher.py:21: UserWarning: Update your `Conv2D` call to the Keras 2 API: `Conv2D(16, (3, 3), activation=\"relu\")`\n",
            "/usr/local/lib/python3.6/dist-packages/ipykernel_launcher.py:26: UserWarning: Update your `Conv2D` call to the Keras 2 API: `Conv2D(18, (3, 3), activation=\"relu\")`\n",
            "/usr/local/lib/python3.6/dist-packages/ipykernel_launcher.py:32: UserWarning: Update your `Conv2D` call to the Keras 2 API: `Conv2D(20, (3, 3), activation=\"relu\")`\n",
            "/usr/local/lib/python3.6/dist-packages/ipykernel_launcher.py:38: UserWarning: Update your `Conv2D` call to the Keras 2 API: `Conv2D(10, (4, 4))`\n"
          ],
          "name": "stderr"
        }
      ]
    },
    {
      "cell_type": "code",
      "metadata": {
        "id": "gLTvpWq3Jl6Y",
        "colab_type": "code",
        "colab": {}
      },
      "source": [
        "model.load_weights(\"weights.best.hdf5\")"
      ],
      "execution_count": 0,
      "outputs": []
    },
    {
      "cell_type": "code",
      "metadata": {
        "id": "H4CfSJwiJwpI",
        "colab_type": "code",
        "colab": {}
      },
      "source": [
        "model.compile(loss='categorical_crossentropy',\n",
        "             optimizer='adam',\n",
        "             metrics=['accuracy'])"
      ],
      "execution_count": 0,
      "outputs": []
    },
    {
      "cell_type": "markdown",
      "metadata": {
        "id": "HmyCiC0OQ3lx",
        "colab_type": "text"
      },
      "source": [
        "## Evaluate and Print score"
      ]
    },
    {
      "cell_type": "code",
      "metadata": {
        "id": "ZIaU6XmcJ2ya",
        "colab_type": "code",
        "colab": {}
      },
      "source": [
        "score = model.evaluate(X_test, Y_test, verbose=0)"
      ],
      "execution_count": 0,
      "outputs": []
    },
    {
      "cell_type": "code",
      "metadata": {
        "id": "km8pGZu0J7KU",
        "colab_type": "code",
        "outputId": "69c0a7be-9e6b-4ca3-cc20-5784ef3c67b0",
        "colab": {
          "base_uri": "https://localhost:8080/",
          "height": 34
        }
      },
      "source": [
        "print(score)"
      ],
      "execution_count": 195,
      "outputs": [
        {
          "output_type": "stream",
          "text": [
            "[0.024630715615079818, 0.9947]\n"
          ],
          "name": "stdout"
        }
      ]
    },
    {
      "cell_type": "markdown",
      "metadata": {
        "id": "XAhkFhNCQ53L",
        "colab_type": "text"
      },
      "source": [
        "# Max Accuracy=99.47% attained with 14,488 parameters"
      ]
    }
  ]
}